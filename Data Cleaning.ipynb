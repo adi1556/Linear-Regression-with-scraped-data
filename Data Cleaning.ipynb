{
 "cells": [
  {
   "cell_type": "code",
   "execution_count": 1,
   "metadata": {
    "collapsed": true
   },
   "outputs": [],
   "source": [
    "import pandas as pd\n",
    "import numpy as np\n",
    "import matplotlib.pyplot as plt\n",
    "%matplotlib inline"
   ]
  },
  {
   "cell_type": "code",
   "execution_count": 2,
   "metadata": {
    "collapsed": true
   },
   "outputs": [],
   "source": [
    "total_df = pd.read_pickle('Totaldata.pkl')"
   ]
  },
  {
   "cell_type": "code",
   "execution_count": 3,
   "metadata": {},
   "outputs": [
    {
     "data": {
      "text/html": [
       "<div>\n",
       "<style scoped>\n",
       "    .dataframe tbody tr th:only-of-type {\n",
       "        vertical-align: middle;\n",
       "    }\n",
       "\n",
       "    .dataframe tbody tr th {\n",
       "        vertical-align: top;\n",
       "    }\n",
       "\n",
       "    .dataframe thead th {\n",
       "        text-align: right;\n",
       "    }\n",
       "</style>\n",
       "<table border=\"1\" class=\"dataframe\">\n",
       "  <thead>\n",
       "    <tr style=\"text-align: right;\">\n",
       "      <th></th>\n",
       "      <th>Genre</th>\n",
       "      <th>IMDB</th>\n",
       "      <th>Metascore</th>\n",
       "      <th>Movie</th>\n",
       "      <th>Run_time</th>\n",
       "      <th>Total_reviews</th>\n",
       "    </tr>\n",
       "  </thead>\n",
       "  <tbody>\n",
       "    <tr>\n",
       "      <th>0</th>\n",
       "      <td>[Action,, Adventure,, Sci-Fi]</td>\n",
       "      <td>8.8</td>\n",
       "      <td>74</td>\n",
       "      <td>Inception</td>\n",
       "      <td>148 min</td>\n",
       "      <td>1,726,204</td>\n",
       "    </tr>\n",
       "    <tr>\n",
       "      <th>1</th>\n",
       "      <td>[Action,, Adventure,, Fantasy]</td>\n",
       "      <td>8.8</td>\n",
       "      <td>82</td>\n",
       "      <td>Star Wars: Episode V - The Empire Strikes Back</td>\n",
       "      <td>124 min</td>\n",
       "      <td>992,696</td>\n",
       "    </tr>\n",
       "    <tr>\n",
       "      <th>2</th>\n",
       "      <td>[Action,, Adventure,, Fantasy]</td>\n",
       "      <td>8.7</td>\n",
       "      <td>68</td>\n",
       "      <td>Avengers: Infinity War</td>\n",
       "      <td>149 min</td>\n",
       "      <td>398,700</td>\n",
       "    </tr>\n",
       "    <tr>\n",
       "      <th>3</th>\n",
       "      <td>[Action,, Sci-Fi]</td>\n",
       "      <td>8.7</td>\n",
       "      <td>73</td>\n",
       "      <td>The Matrix</td>\n",
       "      <td>136 min</td>\n",
       "      <td>1,416,650</td>\n",
       "    </tr>\n",
       "    <tr>\n",
       "      <th>4</th>\n",
       "      <td>[Adventure,, Drama,, Sci-Fi]</td>\n",
       "      <td>8.6</td>\n",
       "      <td>74</td>\n",
       "      <td>Interstellar</td>\n",
       "      <td>169 min</td>\n",
       "      <td>1,190,257</td>\n",
       "    </tr>\n",
       "  </tbody>\n",
       "</table>\n",
       "</div>"
      ],
      "text/plain": [
       "                            Genre IMDB   Metascore  \\\n",
       "0   [Action,, Adventure,, Sci-Fi]  8.8  74           \n",
       "1  [Action,, Adventure,, Fantasy]  8.8  82           \n",
       "2  [Action,, Adventure,, Fantasy]  8.7  68           \n",
       "3               [Action,, Sci-Fi]  8.7  73           \n",
       "4    [Adventure,, Drama,, Sci-Fi]  8.6  74           \n",
       "\n",
       "                                            Movie Run_time Total_reviews  \n",
       "0                                       Inception  148 min     1,726,204  \n",
       "1  Star Wars: Episode V - The Empire Strikes Back  124 min       992,696  \n",
       "2                          Avengers: Infinity War  149 min       398,700  \n",
       "3                                      The Matrix  136 min     1,416,650  \n",
       "4                                    Interstellar  169 min     1,190,257  "
      ]
     },
     "execution_count": 3,
     "metadata": {},
     "output_type": "execute_result"
    }
   ],
   "source": [
    "total_df.head()"
   ]
  },
  {
   "cell_type": "code",
   "execution_count": 4,
   "metadata": {
    "collapsed": true
   },
   "outputs": [],
   "source": [
    "total_df[\"Run_time\"] = total_df[\"Run_time\"].str.replace('min', '')\n",
    "total_df[\"Total_reviews\"] = total_df[\"Total_reviews\"].str.replace(',', '')"
   ]
  },
  {
   "cell_type": "code",
   "execution_count": 5,
   "metadata": {
    "collapsed": true
   },
   "outputs": [],
   "source": [
    "total_df[['genre1', 'genre2', 'genre3']] = pd.DataFrame(total_df[\"Genre\"].values.tolist(), index=total_df.index)\n",
    "total_df[\"genre1\"] = total_df[\"genre1\"].str.replace(',','')\n",
    "total_df[\"genre2\"] = total_df[\"genre2\"].str.replace(',','')"
   ]
  },
  {
   "cell_type": "code",
   "execution_count": null,
   "metadata": {
    "collapsed": true
   },
   "outputs": [],
   "source": [
    "genre1 = pd.get_dummies(total_df[\"genre1\"])\n",
    "genre2 = pd.get_dummies(total_df[\"genre2\"])\n",
    "genre3 = pd.get_dummies(total_df[\"genre3\"])"
   ]
  },
  {
   "cell_type": "code",
   "execution_count": null,
   "metadata": {
    "collapsed": true
   },
   "outputs": [],
   "source": [
    "genre1[\"History\"]= np.zeros((1998,1))\n",
    "genre1[\"Music\"]= np.zeros((1998,1))\n",
    "genre1[\"Thriller\"]= np.zeros((1998,1))\n",
    "genre1[\"Sport\"]= np.zeros((1998,1))\n",
    "genre1[\"War\"]= np.zeros((1998,1))\n",
    "genre2[\"Animation\"]=np.zeros((1998,1))\n",
    "genre2[\"Documentary\"]=np.zeros((1998,1))\n",
    "genre2[\"Sport\"]= np.zeros((1998,1))\n",
    "genre2[\"War\"]= np.zeros((1998,1))\n",
    "genre3[\"Action\"] = np.zeros((1998,1))\n",
    "genre3[\"Animation\"]=np.zeros((1998,1))\n",
    "genre3[\"Documentary\"]=np.zeros((1998,1))"
   ]
  },
  {
   "cell_type": "code",
   "execution_count": null,
   "metadata": {
    "collapsed": true
   },
   "outputs": [],
   "source": [
    "df_genre = genre1+genre2+genre3"
   ]
  },
  {
   "cell_type": "markdown",
   "metadata": {},
   "source": [
    "Dropping cells with very low number of 1's"
   ]
  },
  {
   "cell_type": "code",
   "execution_count": null,
   "metadata": {
    "collapsed": true
   },
   "outputs": [],
   "source": [
    "df_genre.drop([\"Sport\", \"Biography\", \"War\", \"History\", \"Musical\"], axis=1, inplace = True)"
   ]
  },
  {
   "cell_type": "code",
   "execution_count": null,
   "metadata": {
    "collapsed": true
   },
   "outputs": [],
   "source": [
    "new_df = total_df.join(df_genre)"
   ]
  },
  {
   "cell_type": "markdown",
   "metadata": {},
   "source": [
    "Removing Duplicates and changing strings to float"
   ]
  },
  {
   "cell_type": "code",
   "execution_count": null,
   "metadata": {
    "collapsed": true
   },
   "outputs": [],
   "source": [
    "new_df = new_df.drop_duplicates(subset='Movie', keep='first')\n",
    "new_df[\"IMDB\"] = new_df[\"IMDB\"].astype('float')\n",
    "new_df[\"Metascore\"] = new_df[\"Metascore\"].astype('float')\n",
    "new_df[\"Run_time\"] = new_df[\"Run_time\"].astype('float')\n",
    "new_df[\"Total_reviews\"] = new_df[\"Total_reviews\"].astype('float')"
   ]
  },
  {
   "cell_type": "markdown",
   "metadata": {},
   "source": [
    "Adding extra data for Budget"
   ]
  },
  {
   "cell_type": "code",
   "execution_count": null,
   "metadata": {
    "collapsed": true
   },
   "outputs": [],
   "source": [
    "imdb_data = pd.read_csv(\"movie_metadata.csv\")"
   ]
  },
  {
   "cell_type": "code",
   "execution_count": null,
   "metadata": {
    "collapsed": true
   },
   "outputs": [],
   "source": [
    "imdb_data = imdb_data[[\"movie_title\",\"budget\"]]\n",
    "imdb_data = imdb_data.rename(columns={'movie_title':'Movie'})\n",
    "imdb_data[\"Movie\"] = imdb_data[\"Movie\"].str.replace('\\xa0', '')"
   ]
  },
  {
   "cell_type": "code",
   "execution_count": null,
   "metadata": {
    "collapsed": true
   },
   "outputs": [],
   "source": [
    "df_budget = new_df.merge(imdb_data, how='left', on='Movie')"
   ]
  },
  {
   "cell_type": "code",
   "execution_count": null,
   "metadata": {
    "collapsed": true
   },
   "outputs": [],
   "source": [
    "df_budget.drop([\"Metascore\"], axis=1, inplace=True)\n",
    "df_budget[\"budget\"].fillna(0,inplace=True) ### Adding zeros to NaN's"
   ]
  },
  {
   "cell_type": "code",
   "execution_count": null,
   "metadata": {
    "collapsed": true
   },
   "outputs": [],
   "source": [
    "df_budget.to_pickle('Cleandata.pkl')"
   ]
  },
  {
   "cell_type": "code",
   "execution_count": null,
   "metadata": {
    "collapsed": true
   },
   "outputs": [],
   "source": []
  }
 ],
 "metadata": {
  "kernelspec": {
   "display_name": "Python 3",
   "language": "python",
   "name": "python3"
  },
  "language_info": {
   "codemirror_mode": {
    "name": "ipython",
    "version": 3
   },
   "file_extension": ".py",
   "mimetype": "text/x-python",
   "name": "python",
   "nbconvert_exporter": "python",
   "pygments_lexer": "ipython3",
   "version": "3.6.1"
  }
 },
 "nbformat": 4,
 "nbformat_minor": 2
}
