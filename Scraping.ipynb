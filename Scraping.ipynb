{
 "cells": [
  {
   "cell_type": "code",
   "execution_count": null,
   "metadata": {
    "collapsed": true
   },
   "outputs": [],
   "source": [
    "import pandas as pd\n",
    "from selenium import webdriver\n",
    "from selenium.webdriver.common.keys import Keys\n",
    "import time\n",
    "import requests\n",
    "from bs4 import BeautifulSoup"
   ]
  },
  {
   "cell_type": "code",
   "execution_count": null,
   "metadata": {
    "collapsed": true
   },
   "outputs": [],
   "source": [
    "def movie_data(url):\n",
    "\n",
    "    movie_names= []\n",
    "    run_time=[]\n",
    "    imdb_rating=[]\n",
    "    metascore_rating=[]\n",
    "    genre = []\n",
    "    total_reviews = []\n",
    "    movie_collection = []\n",
    "    \n",
    "    \n",
    "    driver = webdriver.Chrome(\"C:\\\\Users\\\\Aditya\\\\Desktop\\\\chromedriver.exe\")\n",
    "    driver.get(url)\n",
    "    for _ in range(9):    ### Run in on 9 different pages\n",
    "        \n",
    "        soup = BeautifulSoup(driver.page_source,\"html.parser\")\n",
    "        movie_containers = soup.find_all('div', class_='lister-item mode-advanced')\n",
    "        for containers in movie_containers:\n",
    "            if containers.find('div', class_ = 'ratings-metascore') is not None:\n",
    "                \n",
    "              \n",
    "                    movie = containers.find('h3').find('a').text   ##movie name\n",
    "                    movie_names.append(movie)\n",
    "    \n",
    "                    runtime = containers.find(class_='runtime').text   ### runtime \n",
    "                    run_time.append(runtime)\n",
    "    \n",
    "                    imdb = containers.find('strong').text    ### imdb rating\n",
    "                    imdb_rating.append(imdb)\n",
    "    \n",
    "                    metascore = containers.find(class_='metascore').text   ## Metascore rating\n",
    "                    metascore_rating.append(metascore)\n",
    "        \n",
    "                    genre_class = containers.find(class_='genre').text.split()   ### genre\n",
    "                    genre.append(genre_class)  \n",
    "     \n",
    "                    reviews = containers.find(class_='sort-num_votes-visible').find_all('span')[1].text ### total_reviews\n",
    "                    total_reviews.append(reviews)\n",
    "            \n",
    "                \n",
    "            \n",
    "    \n",
    "        time.sleep(6)\n",
    "        test = driver.find_element_by_class_name('lister-page-next')   ###click on next for getting more movies\n",
    "        test.click()\n",
    "    \n",
    "    df = pd.DataFrame({'Movie': movie_names,\n",
    "                        'Run_time': run_time,\n",
    "                       'IMDB': imdb_rating,\n",
    "                     'Metascore': metascore_rating,\n",
    "                       'Genre' : genre,\n",
    "                       'Total_reviews' : total_reviews\n",
    "                       }) \n",
    "    return(df)\n",
    "    "
   ]
  },
  {
   "cell_type": "markdown",
   "metadata": {},
   "source": [
    "### Collecting Data of different genre"
   ]
  },
  {
   "cell_type": "code",
   "execution_count": null,
   "metadata": {
    "collapsed": true
   },
   "outputs": [],
   "source": [
    "df_movie_info_scifi = movie_data('https://www.imdb.com/search/title?genres=sci_fi&sort=user_rating,desc&title_type=feature&num_votes=25000,&pf_rd_m=A2FGELUUNOQJNL&pf_rd_p=5aab685f-35eb-40f3-95f7-c53f09d542c3&pf_rd_r=9KXP1M3CEWMQEN9REPFJ&pf_rd_s=right-6&pf_rd_t=15506&pf_rd_i=top&page=1&ref_=adv_prv')\n",
    "df_movie_fantasy = movie_data('https://www.imdb.com/search/title?genres=fantasy&explore=title_type,genres&pf_rd_m=A2FGELUUNOQJNL&pf_rd_p=fd0c0dd4-de47-4168-baa8-239e02fd9ee7&pf_rd_r=8NG1K4YX04G1YFQ3MEAH&pf_rd_s=center-4&pf_rd_t=15051&pf_rd_i=genre&ref_=ft_gnr_pr4_i_3')\n",
    "df_movie_animation = movie_data('https://www.imdb.com/search/title?genres=animation&explore=title_type,genres&pf_rd_m=A2FGELUUNOQJNL&pf_rd_p=fd0c0dd4-de47-4168-baa8-239e02fd9ee7&pf_rd_r=8NG1K4YX04G1YFQ3MEAH&pf_rd_s=center-4&pf_rd_t=15051&pf_rd_i=genre&ref_=ft_gnr_pr4_i_1')\n",
    "df_movie_romance = movie_data('https://www.imdb.com/search/title?genres=romance&explore=title_type,genres&pf_rd_m=A2FGELUUNOQJNL&pf_rd_p=e0da8c98-35e8-4ebd-8e86-e7d39c92730c&pf_rd_r=8NG1K4YX04G1YFQ3MEAH&pf_rd_s=center-2&pf_rd_t=15051&pf_rd_i=genre&ref_=ft_gnr_pr2_i_1')\n",
    "df_movie_mystery = movie_data(\"https://www.imdb.com/search/title?genres=mystery&explore=title_type,genres&pf_rd_m=A2FGELUUNOQJNL&pf_rd_p=f1cf7b98-03fb-4a83-95f3-d833fdba0471&pf_rd_r=8NG1K4YX04G1YFQ3MEAH&pf_rd_s=center-3&pf_rd_t=15051&pf_rd_i=genre&ref_=ft_gnr_pr3_i_2\")\n",
    "df_movie_action_comedy = movie_data(\"https://www.imdb.com/search/title?genres=action,comedy&explore=title_type,genres&pf_rd_m=A2FGELUUNOQJNL&pf_rd_p=15aedf0d-e467-4a1a-922a-e0cbd7299e84&pf_rd_r=8NG1K4YX04G1YFQ3MEAH&pf_rd_s=center-5&pf_rd_t=15051&pf_rd_i=genre&ref_=ft_gnr_pr5_i_2\")"
   ]
  },
  {
   "cell_type": "code",
   "execution_count": null,
   "metadata": {
    "collapsed": true
   },
   "outputs": [],
   "source": [
    "total_df = pd.concat([df_movie_info_scifi, df_movie_fantasy, df_movie_animation, df_movie_romance, df_movie_romance, df_movie_mystery, df_movie_action_comedy], ignore_index = True)"
   ]
  },
  {
   "cell_type": "code",
   "execution_count": null,
   "metadata": {
    "collapsed": true
   },
   "outputs": [],
   "source": [
    "total_df.to_pickle(\"Totaldata.pkl\")  ## pickling the data"
   ]
  },
  {
   "cell_type": "markdown",
   "metadata": {},
   "source": [
    "### Scraper for collecting comments"
   ]
  },
  {
   "cell_type": "code",
   "execution_count": null,
   "metadata": {
    "collapsed": true
   },
   "outputs": [],
   "source": [
    "def scrape_movie_comments(url):\n",
    "    comments = []\n",
    "    total_df = pd.DataFrame()\n",
    "    driver = webdriver.Chrome(\"C:\\\\Users\\\\Aditya\\\\Desktop\\\\chromedriver.exe\")\n",
    "    driver.get(url)\n",
    "    soup = BeautifulSoup(driver.page_source,\"lxml\")\n",
    "    movie_list =[]\n",
    "    data = soup.find_all('h3',attrs={'class':\"lister-item-header\"})\n",
    "    for div in data:\n",
    "        links = div.find_all('a')\n",
    "        for a in links:\n",
    "            movie_list.append(a.text)\n",
    "    movie_list = (['\"{0}\"'.format(y) for y in movie_list])\n",
    "    time.sleep(3)\n",
    "    for x in range(7):  ## 6 more pages loaded \n",
    "       \n",
    "        driver.get(url)\n",
    "        test = driver.find_element_by_xpath('//a[text()={}]'.format(movie_list[x])) ### Clicks a movie title\n",
    "        time.sleep(3)\n",
    "        test.click()\n",
    "        soup = BeautifulSoup(driver.page_source,\"html.parser\")\n",
    "        movie_containers = soup.find_all(class_ ='subText')\n",
    "        review_number = movie_containers[1].find('a').text\n",
    "        ### finding the total reviews section to click \n",
    "        test = driver.find_element_by_xpath('//a[text()=\"See all {} reviews\"]'.format(review_number)) \n",
    "        time.sleep(3)\n",
    "        test.click()\n",
    "        \n",
    "        for _ in range(4):   ### Loads the review page 4 more times\n",
    "            test = driver.find_element_by_class_name('ipl-load-more__button')\n",
    "            time.sleep(3)\n",
    "            test.click()\n",
    "            \n",
    "        soup = BeautifulSoup(driver.page_source,\"html.parser\")\n",
    "       \n",
    "        for element in soup.find_all(class_='title'):  ### collects all the comment headers\n",
    "             comments.append(element.text)\n",
    "          \n",
    "        df = pd.DataFrame({'Comments': comments,\n",
    "                        'Movie_name': movie_list[x]})\n",
    "        total_df = total_df.append(df)\n",
    "        \n",
    "    return(total_df)"
   ]
  },
  {
   "cell_type": "code",
   "execution_count": null,
   "metadata": {
    "collapsed": true
   },
   "outputs": [],
   "source": []
  }
 ],
 "metadata": {
  "kernelspec": {
   "display_name": "Python 3",
   "language": "python",
   "name": "python3"
  },
  "language_info": {
   "codemirror_mode": {
    "name": "ipython",
    "version": 3
   },
   "file_extension": ".py",
   "mimetype": "text/x-python",
   "name": "python",
   "nbconvert_exporter": "python",
   "pygments_lexer": "ipython3",
   "version": "3.6.1"
  }
 },
 "nbformat": 4,
 "nbformat_minor": 2
}
